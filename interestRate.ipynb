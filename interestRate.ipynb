{
 "cells": [
  {
   "cell_type": "code",
   "execution_count": 1,
   "metadata": {
    "collapsed": true
   },
   "outputs": [],
   "source": [
    "# Pre-setting\n",
    "import random\n",
    "import numpy as np\n",
    "import matplotlib.pyplot as plt\n",
    "\n",
    "%matplotlib inline\n",
    "plt.rcParams['figure.figsize'] = (10.0, 8.0) # set default size of plots\n",
    "plt.rcParams['image.interpolation'] = 'nearest'\n",
    "plt.rcParams['image.cmap'] = 'gray'\n",
    "\n",
    "# for auto-reloading extenrnal modules\n",
    "# see http://stackoverflow.com/questions/1907993/autoreload-of-modules-in-ipython\n",
    "%load_ext autoreload\n",
    "%autoreload 2"
   ]
  },
  {
   "cell_type": "code",
   "execution_count": 2,
   "metadata": {
    "collapsed": true
   },
   "outputs": [],
   "source": [
    "import scipy.io\n",
    "\n",
    "# Load MatLab m data File\n",
    "xMFile = scipy.io.loadmat('x.mat')\n",
    "yMFile = scipy.io.loadmat('y.mat')\n",
    "xx = xMFile['xx']\n",
    "yy = yMFile['yy']"
   ]
  },
  {
   "cell_type": "code",
   "execution_count": 3,
   "metadata": {
    "collapsed": false
   },
   "outputs": [
    {
     "name": "stdout",
     "output_type": "stream",
     "text": [
      "[[4 4]\n",
      " [9 9]]\n"
     ]
    }
   ],
   "source": [
    "a1 = np.array([[2, 2], [3, 3]])\n",
    "print a1 ** 2"
   ]
  },
  {
   "cell_type": "code",
   "execution_count": 4,
   "metadata": {
    "collapsed": true
   },
   "outputs": [],
   "source": [
    "def Log_p_eta_given_y(x, y, eta):\n",
    "    \n",
    "    DF = np.exp(-(x / 360.0) * (y / 100.0))\n",
    "    N = len(x)\n",
    "    \n",
    "    t = np.unique(x)\n",
    "    n = len(t)\n",
    "    t_head = t[1:]\n",
    "    t_tail = t[:-1]\n",
    "    h = t_head - t_tail\n",
    "    h = np.insert(h, 0, 0)\n",
    "    \n",
    "    w = np.zeros((n, 1), dtype=float)\n",
    "    y_bar = np.zeros((n, 1), dtype=float)\n",
    "    SSE = 0.0\n",
    "    \n",
    "    for j in range(n):\n",
    "        w[j] = np.sum(x == t[j])\n",
    "        y_bar[j] = np.sum((x == t[j]) * DF) / w[j]\n",
    "        SE = (x == t[j]) * (DF - y_bar[j])\n",
    "        SSE += np.sum(SE ** 2)\n",
    "        \n",
    "    Q_prime = np.zeros((n-2, n))\n",
    "    T_Col_N = n - 1\n",
    "    T_m = np.zeros((n-2, T_Col_N))\n",
    "    \n",
    "    for j in range(n-2):\n",
    "        Q_prime[j, j] = (h[j + 1] + 0.0) ** (-1)\n",
    "        Q_prime[j, j + 2] = (h[j + 2] + 0.0) ** (-1)\n",
    "        Q_prime[j, j + 1] = -(Q_prime[j, j] + Q_prime[j, j + 2])\n",
    "        \n",
    "        T_m[j, j] = (h[j + 1] + h[j + 2]) / 6.0\n",
    "        T_m[j, j + 1] = h[j + 2] / 6.0\n",
    "        \n",
    "    T_m = T_m[:, : -1]\n",
    "    T_m = T_m + T_m.T\n",
    "    W = np.diag([x[0] for x in w]) # np.diag(w)\n",
    "    Q = Q_prime.T\n",
    "    A = Q.dot(np.linalg.inv(T_m)).dot(Q.T)\n",
    "    \n",
    "    log_p_eta = -2 * np.log(1 + eta)\n",
    "    p = 2\n",
    "    log_1 = ((n - p) / 2.0) * np.log(eta)\n",
    "    log_3 = ((N - p) / 2.0) * np.log(y_bar.T.dot(W - W.dot(np.linalg.inv(W + eta * A)).dot(W)).dot(y_bar) + SSE)\n",
    "    \n",
    "    \n",
    "    if eta > 1:\n",
    "        log_2 = 0.5 * n * np.log(eta) + 0.5 * np.log(np.linalg.det(W / eta + A))\n",
    "    else:\n",
    "        log_2 = 0.5 * np.log(np.linalg.det(W + eta * A))\n",
    "    \n",
    "    return log_p_eta + log_1 - log_2 - log_3"
   ]
  },
  {
   "cell_type": "code",
   "execution_count": 5,
   "metadata": {
    "collapsed": false
   },
   "outputs": [
    {
     "name": "stdout",
     "output_type": "stream",
     "text": [
      "[[ 300.00242343]]\n",
      "[[ 915.75447257]]\n"
     ]
    }
   ],
   "source": [
    "print Log_p_eta_given_y(xx, yy, 0.0001)\n",
    "\n",
    "print Log_p_eta_given_y(xx, yy, 1.3)"
   ]
  },
  {
   "cell_type": "code",
   "execution_count": 6,
   "metadata": {
    "collapsed": false
   },
   "outputs": [
    {
     "name": "stderr",
     "output_type": "stream",
     "text": [
      "C:\\Anaconda2\\lib\\site-packages\\scipy\\integrate\\quadpack.py:357: IntegrationWarning: The integral is probably divergent, or slowly convergent.\n",
      "  warnings.warn(msg, IntegrationWarning)\n"
     ]
    }
   ],
   "source": [
    "from scipy import integrate\n",
    "\n",
    "# Reference from https://docs.scipy.org/doc/scipy-0.14.0/reference/generated/scipy.integrate.quad.html\n",
    "invexp = lambda eta: (Log_p_eta_given_y(xx, yy, eta))\n",
    "y, err = integrate.quad(invexp, 0.01, np.inf)"
   ]
  },
  {
   "cell_type": "code",
   "execution_count": 7,
   "metadata": {
    "collapsed": false
   },
   "outputs": [
    {
     "name": "stdout",
     "output_type": "stream",
     "text": [
      "Integral is -4530.228664\n",
      "Error is 2443.057962\n"
     ]
    }
   ],
   "source": [
    "print 'Integral is %f' % y\n",
    "print 'Error is %f' % err"
   ]
  },
  {
   "cell_type": "code",
   "execution_count": 8,
   "metadata": {
    "collapsed": false
   },
   "outputs": [
    {
     "name": "stderr",
     "output_type": "stream",
     "text": [
      "C:\\Anaconda2\\lib\\site-packages\\ipykernel\\__main__.py:4: RuntimeWarning: overflow encountered in exp\n",
      "C:\\Anaconda2\\lib\\site-packages\\scipy\\integrate\\quadpack.py:357: IntegrationWarning: The occurrence of roundoff error is detected, which prevents \n",
      "  the requested tolerance from being achieved.  The error may be \n",
      "  underestimated.\n",
      "  warnings.warn(msg, IntegrationWarning)\n"
     ]
    }
   ],
   "source": [
    "from scipy import integrate\n",
    "\n",
    "# Reference from https://docs.scipy.org/doc/scipy-0.14.0/reference/generated/scipy.integrate.quad.html\n",
    "invexp = lambda eta: np.exp(Log_p_eta_given_y(xx, yy, eta))\n",
    "y, err = integrate.quad(invexp, 0.01, 100)"
   ]
  },
  {
   "cell_type": "code",
   "execution_count": null,
   "metadata": {
    "collapsed": true
   },
   "outputs": [],
   "source": []
  }
 ],
 "metadata": {
  "anaconda-cloud": {},
  "kernelspec": {
   "display_name": "Python [Root]",
   "language": "python",
   "name": "Python [Root]"
  },
  "language_info": {
   "codemirror_mode": {
    "name": "ipython",
    "version": 2
   },
   "file_extension": ".py",
   "mimetype": "text/x-python",
   "name": "python",
   "nbconvert_exporter": "python",
   "pygments_lexer": "ipython2",
   "version": "2.7.12"
  }
 },
 "nbformat": 4,
 "nbformat_minor": 0
}
