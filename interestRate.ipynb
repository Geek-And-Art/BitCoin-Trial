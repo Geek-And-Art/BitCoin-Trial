{
 "cells": [
  {
   "cell_type": "code",
   "execution_count": 1,
   "metadata": {
    "collapsed": true
   },
   "outputs": [],
   "source": [
    "# Pre-setting\n",
    "import random\n",
    "import numpy as np\n",
    "import matplotlib.pyplot as plt\n",
    "\n",
    "%matplotlib inline\n",
    "plt.rcParams['figure.figsize'] = (10.0, 8.0) # set default size of plots\n",
    "plt.rcParams['image.interpolation'] = 'nearest'\n",
    "plt.rcParams['image.cmap'] = 'gray'\n",
    "\n",
    "# for auto-reloading extenrnal modules\n",
    "# see http://stackoverflow.com/questions/1907993/autoreload-of-modules-in-ipython\n",
    "%load_ext autoreload\n",
    "%autoreload 2"
   ]
  },
  {
   "cell_type": "code",
   "execution_count": 2,
   "metadata": {
    "collapsed": true
   },
   "outputs": [],
   "source": [
    "import scipy.io\n",
    "\n",
    "# Load MatLab m data File\n",
    "xMFile = scipy.io.loadmat('x.mat')\n",
    "yMFile = scipy.io.loadmat('y.mat')\n",
    "xx = xMFile['xx']\n",
    "yy = yMFile['yy']"
   ]
  },
  {
   "cell_type": "code",
   "execution_count": 3,
   "metadata": {
    "collapsed": false
   },
   "outputs": [],
   "source": [
    "def compute_diff_seq(t):\n",
    "    t_head = t[1:]\n",
    "    t_tail = t[:-1]\n",
    "    h = t_head - t_tail    \n",
    "    return np.insert(h, 0, 0)\n",
    "\n",
    "def compute_SSE_w_yBar(x, t, DF):\n",
    "    # Initial parameters\n",
    "    n = len(t)    \n",
    "    w = np.zeros((n, 1), dtype=float)\n",
    "    y_bar = np.zeros((n, 1), dtype=float)\n",
    "    SSE = 0.0\n",
    "    \n",
    "    # Compute SSE, w, y_bar\n",
    "    for j in range(n):\n",
    "        w[j] = np.sum(x == t[j])\n",
    "        y_bar[j] = np.sum((x == t[j]) * DF) / w[j]\n",
    "        SE = (x == t[j]) * (DF - y_bar[j])\n",
    "        SSE += np.sum(SE ** 2)\n",
    "        \n",
    "    return SSE, w, y_bar\n",
    "\n",
    "def compute_A(t, h):\n",
    "    # Initialize parameters\n",
    "    n = len(t)    \n",
    "    Q_prime = np.zeros((n-2, n))\n",
    "    T_Col_N = n - 1\n",
    "    T_m = np.zeros((n-2, T_Col_N))\n",
    "    \n",
    "    # Compute Q_prime, T_m\n",
    "    for j in range(n-2):\n",
    "        Q_prime[j, j] = (h[j + 1] + 0.0) ** (-1)\n",
    "        Q_prime[j, j + 2] = (h[j + 2] + 0.0) ** (-1)\n",
    "        Q_prime[j, j + 1] = -(Q_prime[j, j] + Q_prime[j, j + 2])\n",
    "        \n",
    "        T_m[j, j] = (h[j + 1] + h[j + 2]) / 6.0\n",
    "        T_m[j, j + 1] = h[j + 2] / 6.0\n",
    "    \n",
    "    T_m = T_m[:, : -1]\n",
    "    T_m = T_m + T_m.T\n",
    "    \n",
    "    Q = Q_prime.T\n",
    "    \n",
    "    return Q.dot(np.linalg.inv(T_m)).dot(Q.T)\n",
    "\n",
    "def compute_W(w):\n",
    "    return np.diag([x[0] for x in w])\n",
    "\n",
    "def Log_p_eta_given_y(x, y, eta):\n",
    "    # Initial parameters\n",
    "    DF = np.exp(-(x / 360.0) * (y / 100.0))\n",
    "    N = len(x)    \n",
    "    t = np.unique(x)\n",
    "    n = len(t)\n",
    "    \n",
    "    # Compute parameters\n",
    "    h = compute_diff_seq(t)\n",
    "    SSE, w, y_bar = compute_SSE_w_yBar(x, t, DF)\n",
    "    A = compute_A(t, h)\n",
    "    W = compute_W(w)\n",
    "    \n",
    "    # Compute 4 parts of final formula\n",
    "    p = 2\n",
    "    log_p_eta = -2 * np.log(1 + eta)\n",
    "    log_1 = ((n - p) / 2.0) * np.log(eta)\n",
    "    log_3 = ((N - p) / 2.0) * np.log(y_bar.T.dot(W - W.dot(np.linalg.inv(W + eta * A)).dot(W)).dot(y_bar) + SSE)\n",
    "    if eta > 1:\n",
    "        log_2 = 0.5 * n * np.log(eta) + 0.5 * np.log(np.linalg.det(W / eta + A))\n",
    "    else:\n",
    "        log_2 = 0.5 * np.log(np.linalg.det(W + eta * A))\n",
    "    \n",
    "    \n",
    "    return log_p_eta + log_1 - log_2 - log_3"
   ]
  },
  {
   "cell_type": "code",
   "execution_count": null,
   "metadata": {
    "collapsed": false
   },
   "outputs": [
    {
     "name": "stdout",
     "output_type": "stream",
     "text": [
      "[[ 819.54732992]]\n",
      "[[ 915.75447257]]\n"
     ]
    }
   ],
   "source": [
    "print Log_p_eta_given_y(xx, yy, 0.1)\n",
    "\n",
    "print Log_p_eta_given_y(xx, yy, 1.3)"
   ]
  },
  {
   "cell_type": "code",
   "execution_count": null,
   "metadata": {
    "collapsed": false
   },
   "outputs": [],
   "source": [
    "from scipy import integrate\n",
    "\n",
    "# Reference from https://docs.scipy.org/doc/scipy-0.14.0/reference/generated/scipy.integrate.quad.html\n",
    "invexp = lambda eta: (Log_p_eta_given_y(xx, yy, eta))\n",
    "y, err = integrate.quad(invexp, 0.0, 10 ** 10)"
   ]
  },
  {
   "cell_type": "code",
   "execution_count": null,
   "metadata": {
    "collapsed": false
   },
   "outputs": [],
   "source": [
    "print 'Integral is %f' % y\n",
    "print 'Error is %f' % err"
   ]
  },
  {
   "cell_type": "code",
   "execution_count": null,
   "metadata": {
    "collapsed": false
   },
   "outputs": [],
   "source": [
    "from scipy import integrate\n",
    "\n",
    "# Reference from https://docs.scipy.org/doc/scipy-0.14.0/reference/generated/scipy.integrate.quad.html\n",
    "invexp = lambda eta: np.exp(Log_p_eta_given_y(xx, yy, eta))\n",
    "y, err = integrate.quad(invexp, 0.01, 100)"
   ]
  },
  {
   "cell_type": "code",
   "execution_count": null,
   "metadata": {
    "collapsed": true
   },
   "outputs": [],
   "source": []
  }
 ],
 "metadata": {
  "anaconda-cloud": {},
  "kernelspec": {
   "display_name": "Python [Root]",
   "language": "python",
   "name": "Python [Root]"
  },
  "language_info": {
   "codemirror_mode": {
    "name": "ipython",
    "version": 2
   },
   "file_extension": ".py",
   "mimetype": "text/x-python",
   "name": "python",
   "nbconvert_exporter": "python",
   "pygments_lexer": "ipython2",
   "version": "2.7.12"
  }
 },
 "nbformat": 4,
 "nbformat_minor": 0
}
