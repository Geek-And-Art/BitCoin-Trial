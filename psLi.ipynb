{
 "cells": [
  {
   "cell_type": "markdown",
   "metadata": {},
   "source": [
    "# Optimization exercise\n",
    "\n",
    "The techniques I used here is still python scientific ecosystem: numpy, sci. For this optimization problem, you'd better reference: https://docs.scipy.org/doc/scipy-0.18.1/reference/generated/scipy.optimize.minimize.htm."
   ]
  },
  {
   "cell_type": "code",
   "execution_count": 1,
   "metadata": {
    "collapsed": false
   },
   "outputs": [],
   "source": [
    "import numpy as np\n",
    "from scipy.optimize import minimize, rosen, rosen_der\n",
    "\n",
    "# Input data.\n",
    "R = np.array([51716.2, 65464, 85787.4, 155595.4])\n",
    "q = np.array([9581284.6, 8609087.1, 8465419.9, 9132683.8, 11450758, 14639536, 20124378, 32034070, 44761640, 55131162, 68328234, 109028699, 124416368, 173170271])\n",
    "\n",
    "lenR = R.shape[0]\n",
    "itTimes = q.shape[0] - lenR - 1\n",
    "\n",
    "# print lenR\n",
    "# print itTimes\n",
    "# print R\n",
    "# print q"
   ]
  },
  {
   "cell_type": "code",
   "execution_count": 2,
   "metadata": {
    "collapsed": false
   },
   "outputs": [
    {
     "data": {
      "text/plain": [
       "2.9802840543335552e+17"
      ]
     },
     "execution_count": 2,
     "metadata": {},
     "output_type": "execute_result"
    }
   ],
   "source": [
    "def optFun(x):\n",
    "    res = 0.0\n",
    "    for i in xrange(1, lenR + 1):\n",
    "        tmp = x[0] * np.exp(0.26*i - 0.26)/(0.0622*np.exp(-R[i-1]/x[0]))\n",
    "        # print 'tmp:', tmp\n",
    "        \n",
    "        for j in xrange(0, itTimes + 1):\n",
    "            tmp -= q[i+j] * (1-x[1])**j / (1.0622**(j+1))\n",
    "            # print tmp\n",
    "            \n",
    "        res += tmp ** 2\n",
    "        \n",
    "    return res\n",
    "\n",
    "optFun((50000, 0.005))\n"
   ]
  },
  {
   "cell_type": "markdown",
   "metadata": {},
   "source": [
    "Here, we must pay attention. From above test, we need to make the value of x[0] large enough, otherwise the value of `0.0622 * np.exp(-R[i-1]/x[0])` would be very large!"
   ]
  },
  {
   "cell_type": "code",
   "execution_count": 3,
   "metadata": {
    "collapsed": false
   },
   "outputs": [
    {
     "name": "stdout",
     "output_type": "stream",
     "text": [
      "     fun: 2.9802840543335552e+17\n",
      "     jac: array([  1.27990025e+12,  -3.97118160e+18,   0.00000000e+00])\n",
      " message: 'Inequality constraints incompatible'\n",
      "    nfev: 4\n",
      "     nit: 1\n",
      "    njev: 1\n",
      "  status: 4\n",
      " success: False\n",
      "       x: array([  5.00000000e+04,   5.00000000e-03])\n",
      "\n",
      "\n",
      "     fun: 1.7312742971253578e+144\n",
      "     jac: array([ -5.35288810e+143,   0.00000000e+000,   0.00000000e+000])\n",
      " message: 'Inequality constraints incompatible'\n",
      "    nfev: 4\n",
      "     nit: 1\n",
      "    njev: 1\n",
      "  status: 4\n",
      " success: False\n",
      "       x: array([  1.00000000e+03,   1.00000000e-02])\n",
      "\n",
      "\n",
      "     fun: 1.8458748102529868e+77\n",
      "     jac: array([ -1.41757539e+76,   0.00000000e+00,   0.00000000e+00])\n",
      " message: 'Inequality constraints incompatible'\n",
      "    nfev: 4\n",
      "     nit: 1\n",
      "    njev: 1\n",
      "  status: 4\n",
      " success: False\n",
      "       x: array([  2.00000000e+03,   3.00000000e-04])\n",
      "\n",
      "\n"
     ]
    },
    {
     "name": "stderr",
     "output_type": "stream",
     "text": [
      "C:\\Anaconda2\\lib\\site-packages\\scipy\\optimize\\slsqp.py:337: RuntimeWarning: invalid value encountered in greater\n",
      "  bnderr = where(bnds[:, 0] > bnds[:, 1])[0]\n"
     ]
    }
   ],
   "source": [
    "# Try lots of initial values instead of just one.\n",
    "x0 = np.array([[50000, 0.005], [1000, 0.01], [2000, 0.0003]])\n",
    "\n",
    "# cons = ({'type': 'ineq', 'fun': lambda x: x[0]},\n",
    "#         {'type': 'ineq', 'fun': lambda x: x[1]},\n",
    "#         {'type': 'ineq', 'fun': lambda x: 1 - x[1]})\n",
    "\n",
    "bnds = ((0, None), (0, 1))\n",
    "\n",
    "for i in xrange(x0.shape[0]):\n",
    "    res = minimize(optFun, x0[i], method='SLSQP', bounds=bnds)\n",
    "    print res\n",
    "    print '\\n'"
   ]
  },
  {
   "cell_type": "code",
   "execution_count": 4,
   "metadata": {
    "collapsed": false
   },
   "outputs": [
    {
     "name": "stdout",
     "output_type": "stream",
     "text": [
      "Warning: Desired error not necessarily achieved due to precision loss.\n",
      "         Current function value: 298028405433355520.000000\n",
      "         Iterations: 0\n",
      "         Function evaluations: 24\n",
      "         Gradient evaluations: 3\n",
      "      fun: 2.9802840543335552e+17\n",
      " hess_inv: array([[1, 0],\n",
      "       [0, 1]])\n",
      "      jac: array([  1.27990025e+12,  -3.97118160e+18])\n",
      "  message: 'Desired error not necessarily achieved due to precision loss.'\n",
      "     nfev: 24\n",
      "      nit: 0\n",
      "     njev: 3\n",
      "   status: 2\n",
      "  success: False\n",
      "        x: array([  5.00000000e+04,   5.00000000e-03])\n",
      "\n",
      "\n",
      "Warning: Desired error not necessarily achieved due to precision loss.\n",
      "         Current function value: 1731274297125357832770158779095189638576538081933002006177032311529191891190137546093519634742912290120564924536629224853698116257939670228271104.000000\n",
      "         Iterations: 0\n",
      "         Function evaluations: 56\n",
      "         Gradient evaluations: 11\n",
      "      fun: 1.7312742971253578e+144\n",
      " hess_inv: array([[1, 0],\n",
      "       [0, 1]])\n",
      "      jac: array([ -5.35288810e+143,   0.00000000e+000])\n",
      "  message: 'Desired error not necessarily achieved due to precision loss.'\n",
      "     nfev: 56\n",
      "      nit: 0\n",
      "     njev: 11\n",
      "   status: 2\n",
      "  success: False\n",
      "        x: array([  1.00000000e+03,   1.00000000e-02])\n",
      "\n",
      "\n",
      "Warning: Desired error not necessarily achieved due to precision loss.\n",
      "         Current function value: 184587481025298678769811376888534300665791926362046251427678292301727272009728.000000\n",
      "         Iterations: 0\n",
      "         Function evaluations: 56\n",
      "         Gradient evaluations: 11\n",
      "      fun: 1.8458748102529868e+77\n",
      " hess_inv: array([[1, 0],\n",
      "       [0, 1]])\n",
      "      jac: array([ -1.41757539e+76,   0.00000000e+00])\n",
      "  message: 'Desired error not necessarily achieved due to precision loss.'\n",
      "     nfev: 56\n",
      "      nit: 0\n",
      "     njev: 11\n",
      "   status: 2\n",
      "  success: False\n",
      "        x: array([  2.00000000e+03,   3.00000000e-04])\n",
      "\n",
      "\n"
     ]
    },
    {
     "name": "stderr",
     "output_type": "stream",
     "text": [
      "C:\\Anaconda2\\lib\\site-packages\\ipykernel\\__main__.py:11: RuntimeWarning: overflow encountered in double_scalars\n",
      "C:\\Anaconda2\\lib\\site-packages\\scipy\\optimize\\optimize.py:562: RuntimeWarning: invalid value encountered in double_scalars\n",
      "  grad[k] = (f(*((xk + d,) + args)) - f0) / d[k]\n"
     ]
    }
   ],
   "source": [
    "# Use another method 'BFGS'.\n",
    "# TODO: we can provide the first order derivative\n",
    "#       of optFun for optimization function.\n",
    "\n",
    "for i in xrange(len(x0)):\n",
    "    # minimize(optFun,x0[i],method='bfgs', options={'disp':1})\n",
    "    res = res = minimize(optFun, x0[i], method='BFGS', options={'gtol': 1e-6, 'disp': True})\n",
    "    print res\n",
    "    print '\\n'"
   ]
  },
  {
   "cell_type": "code",
   "execution_count": null,
   "metadata": {
    "collapsed": true
   },
   "outputs": [],
   "source": []
  },
  {
   "cell_type": "code",
   "execution_count": null,
   "metadata": {
    "collapsed": true
   },
   "outputs": [],
   "source": []
  },
  {
   "cell_type": "markdown",
   "metadata": {},
   "source": [
    "# Compute Integration"
   ]
  },
  {
   "cell_type": "code",
   "execution_count": 1,
   "metadata": {
    "collapsed": true
   },
   "outputs": [],
   "source": [
    "# Pre-setting\n",
    "import random\n",
    "import numpy as np\n",
    "import matplotlib.pyplot as plt\n",
    "\n",
    "%matplotlib inline\n",
    "plt.rcParams['figure.figsize'] = (10.0, 8.0) # set default size of plots\n",
    "plt.rcParams['image.interpolation'] = 'nearest'\n",
    "plt.rcParams['image.cmap'] = 'gray'\n",
    "\n",
    "# for auto-reloading extenrnal modules\n",
    "# see http://stackoverflow.com/questions/1907993/autoreload-of-modules-in-ipython\n",
    "%load_ext autoreload\n",
    "%autoreload 2"
   ]
  },
  {
   "cell_type": "code",
   "execution_count": 8,
   "metadata": {
    "collapsed": false
   },
   "outputs": [],
   "source": [
    "# Load MatLab m data File\n",
    "\n",
    "import scipy.io\n",
    "\n",
    "xMFile = scipy.io.loadmat('x.mat')\n",
    "yMFile = scipy.io.loadmat('y.mat')\n",
    "xx = xMFile['xx']\n",
    "yy = yMFile['yy']"
   ]
  },
  {
   "cell_type": "code",
   "execution_count": 21,
   "metadata": {
    "collapsed": false
   },
   "outputs": [
    {
     "name": "stdout",
     "output_type": "stream",
     "text": [
      "(6L, 1L)\n",
      "(7L,)\n"
     ]
    }
   ],
   "source": [
    "a1 = np.array([[1], [3], [3], [1], [2], [2]])\n",
    "print a1.shape\n",
    "a1 = np.insert(a1, 0, 0)\n",
    "print a1.shape"
   ]
  },
  {
   "cell_type": "code",
   "execution_count": 26,
   "metadata": {
    "collapsed": false
   },
   "outputs": [
    {
     "name": "stdout",
     "output_type": "stream",
     "text": [
      "[0 1 3 3 1 2 2]\n",
      "[0 1 9 9 1 4 4]\n"
     ]
    }
   ],
   "source": [
    "print a1\n",
    "print a1 ** 2"
   ]
  },
  {
   "cell_type": "code",
   "execution_count": 34,
   "metadata": {
    "collapsed": false
   },
   "outputs": [
    {
     "name": "stdout",
     "output_type": "stream",
     "text": [
      "[0, 1, 2, 3, 4, 5, 6]\n",
      "[0, 1, 2, 3, 4, 6]\n"
     ]
    }
   ],
   "source": [
    "b = range(7)\n",
    "print b\n",
    "del b[-2]\n",
    "print b"
   ]
  },
  {
   "cell_type": "code",
   "execution_count": 41,
   "metadata": {
    "collapsed": false
   },
   "outputs": [
    {
     "name": "stdout",
     "output_type": "stream",
     "text": [
      "[[ 2  3  5]\n",
      " [12 11 10]]\n",
      "[[ 2 12]\n",
      " [ 3 11]\n",
      " [ 5 10]]\n",
      "[[ 2  5]\n",
      " [12 10]]\n",
      "[[3 0 0]\n",
      " [0 2 0]\n",
      " [0 0 2]]\n",
      "1.38629436112\n"
     ]
    }
   ],
   "source": [
    "c = np.array([[2, 3, 5], [12, 11, 10]])\n",
    "print c\n",
    "print c.T\n",
    "print c[:, [0, 2]]\n",
    "print np.diag([3, 2, 2])\n",
    "print np.log(4)"
   ]
  },
  {
   "cell_type": "code",
   "execution_count": 108,
   "metadata": {
    "collapsed": false
   },
   "outputs": [
    {
     "data": {
      "text/plain": [
       "0.33333333333333331"
      ]
     },
     "execution_count": 108,
     "metadata": {},
     "output_type": "execute_result"
    }
   ],
   "source": [
    "a1 = np.array([2, 3, 4])\n",
    "a1[1] ** (-1)"
   ]
  },
  {
   "cell_type": "code",
   "execution_count": 157,
   "metadata": {
    "collapsed": true
   },
   "outputs": [],
   "source": [
    "def Log_p_eta_given_y(x, y, eta):\n",
    "    \n",
    "    DF = np.exp(-(x / 360.0) * (y / 100.0))\n",
    "    N = len(x)\n",
    "    \n",
    "    t = np.unique(x)\n",
    "    n = len(t)\n",
    "    t_head = t[1:]\n",
    "    t_tail = t[:-1]\n",
    "    h = t_head - t_tail\n",
    "    h = np.insert(h, 0, 0)\n",
    "    print 'h'\n",
    "    print h\n",
    "    \n",
    "    w = np.zeros((n, 1))\n",
    "    y_bar = np.zeros((n, 1))\n",
    "    SSE = 0.0\n",
    "    \n",
    "    for j in range(n):\n",
    "        w[j] = np.sum(x == t[j])\n",
    "        y_bar[j] = np.sum((x == t[j]) * DF) / w[j]\n",
    "        SE = (x == t[j]) * (DF - y_bar[j])\n",
    "        SSE += sum(SE ** 2)\n",
    "        \n",
    "    Q_prime = np.zeros((n-2, n))\n",
    "    T_Col_N = n - 1\n",
    "    T_m = np.zeros((n-2, T_Col_N))\n",
    "    \n",
    "    for j in range(n-2):\n",
    "        Q_prime[j, j] = (h[j + 1] + 0.0) ** (-1)\n",
    "        Q_prime[j, j + 2] = (h[j + 2] + 0.0) ** (-1)\n",
    "        Q_prime[j, j + 1] = -(Q_prime[j, j] + Q_prime[j, j + 2])\n",
    "        \n",
    "        T_m[j, j] = (h[j + 1] + h[j + 2]) / 6.0\n",
    "        T_m[j, j + 1] = h[j + 2] / 6.0\n",
    "        \n",
    "    print 'h ** -1'\n",
    "    print h[1]\n",
    "    print ((h[1] + 0.0) ** (-1))\n",
    "    print 'Q_prime:'\n",
    "    print Q_prime\n",
    "    maskT = range(T_Col_N)\n",
    "    del maskT[-2]\n",
    "    T_m = T_m[:, maskT]\n",
    "    T_m = T_m + T_m.T\n",
    "    W = np.diag([x[0] for x in w]) # np.diag(w)\n",
    "    Q = Q_prime.T\n",
    "    A = Q.dot(np.linalg.inv(T_m)).dot(Q.T)\n",
    "    \n",
    "    \n",
    "    log_p_eta = -2 * np.log(1 + eta)\n",
    "    p = 2\n",
    "    log_1 = ((n - p) / 2.0) * np.log(eta)\n",
    "    print 'check:'\n",
    "    print W\n",
    "    log_3 = ((N - p) / 2.0) * np.log(SSE + y_bar.T.dot(W - W.dot(np.linalg.inv(eta * A + W)).dot(W).dot(W)).dot(y_bar))\n",
    "    \n",
    "    if eta > 1:\n",
    "        log_2 = 0.5 * n * np.log(eta) + 0.5 * np.log(np.linalg.det(W / eta + A))\n",
    "    else:\n",
    "        log_2 = 0.5 * np.log(np.linalg.det(W + eta * A))\n",
    "        \n",
    "    return log_p_eta + log_1 - log_2 - log_3"
   ]
  },
  {
   "cell_type": "code",
   "execution_count": 158,
   "metadata": {
    "collapsed": false
   },
   "outputs": [
    {
     "name": "stdout",
     "output_type": "stream",
     "text": [
      "(317L, 1L)\n",
      "(317L, 1L)\n",
      "h\n",
      "[ 0  8  2  3  1  4  1  1  2  3  6  1  1  8  3  1  1  1  2  2  1  1  2  1  2\n",
      "  1  1  2  3  1  1  1  7  2  2  3  4  1  2  1  1  2  1  2  3  1  1  2  2  3\n",
      "  1  1  1  1  3  3  1  1  1  1  1  1  1  1  4  1  1  1  1  1  3  2  1  2  1\n",
      "  1  1  1  1  1  4  1  1  1  1  1  2  2  1  1  4  5  2  1  3  1  1  8  1  1\n",
      "  2  1  1  2  1  1  1  2  1  1  3  1  1  2  1  1  1  1  1  1  1  3  1  1  4\n",
      "  1  1  1  1  2  1  1  4  1  1  6  1  1  1  1  1  1  1  1  1  2  2  1  1  1\n",
      "  2  1 10  9  6 11  6  7  1  6  2  4  7  5  1 14 11  3]\n",
      "h ** -1\n",
      "8\n",
      "0.125\n",
      "Q_prime:\n",
      "[[ 0.125      -0.625       0.5        ...,  0.          0.          0.        ]\n",
      " [ 0.          0.5        -0.83333333 ...,  0.          0.          0.        ]\n",
      " [ 0.          0.          0.33333333 ...,  0.          0.          0.        ]\n",
      " ..., \n",
      " [ 0.          0.          0.         ...,  0.07142857  0.          0.        ]\n",
      " [ 0.          0.          0.         ..., -0.16233766  0.09090909  0.        ]\n",
      " [ 0.          0.          0.         ...,  0.09090909 -0.42424242\n",
      "   0.33333333]]\n",
      "check:\n",
      "[[ 1.  0.  0. ...,  0.  0.  0.]\n",
      " [ 0.  2.  0. ...,  0.  0.  0.]\n",
      " [ 0.  0.  1. ...,  0.  0.  0.]\n",
      " ..., \n",
      " [ 0.  0.  0. ...,  1.  0.  0.]\n",
      " [ 0.  0.  0. ...,  0.  1.  0.]\n",
      " [ 0.  0.  0. ...,  0.  0.  1.]]\n"
     ]
    },
    {
     "name": "stderr",
     "output_type": "stream",
     "text": [
      "C:\\Anaconda2\\lib\\site-packages\\ipykernel\\__main__.py:56: RuntimeWarning: invalid value encountered in log\n"
     ]
    },
    {
     "data": {
      "text/plain": [
       "array([[ nan]])"
      ]
     },
     "execution_count": 158,
     "metadata": {},
     "output_type": "execute_result"
    }
   ],
   "source": [
    "print xx.shape\n",
    "print yy.shape\n",
    "Log_p_eta_given_y(xx, yy, 0.3)"
   ]
  },
  {
   "cell_type": "code",
   "execution_count": null,
   "metadata": {
    "collapsed": true
   },
   "outputs": [],
   "source": []
  }
 ],
 "metadata": {
  "anaconda-cloud": {},
  "kernelspec": {
   "display_name": "Python [Root]",
   "language": "python",
   "name": "Python [Root]"
  },
  "language_info": {
   "codemirror_mode": {
    "name": "ipython",
    "version": 2
   },
   "file_extension": ".py",
   "mimetype": "text/x-python",
   "name": "python",
   "nbconvert_exporter": "python",
   "pygments_lexer": "ipython2",
   "version": "2.7.12"
  }
 },
 "nbformat": 4,
 "nbformat_minor": 0
}
