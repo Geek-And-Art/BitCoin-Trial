{
 "cells": [
  {
   "cell_type": "markdown",
   "metadata": {},
   "source": [
    "# Optimization exercise\n",
    "\n",
    "The techniques I used here is still python scientific ecosystem: numpy, sci. For this optimization problem, you'd better reference: https://docs.scipy.org/doc/scipy-0.18.1/reference/generated/scipy.optimize.minimize.htm."
   ]
  },
  {
   "cell_type": "code",
   "execution_count": 1,
   "metadata": {
    "collapsed": false
   },
   "outputs": [],
   "source": [
    "import numpy as np\n",
    "from scipy.optimize import minimize, rosen, rosen_der\n",
    "\n",
    "# Input data.\n",
    "R = np.array([51716.2, 65464, 85787.4, 155595.4])\n",
    "q = np.array([9581284.6, 8609087.1, 8465419.9, 9132683.8, 11450758, 14639536, 20124378, 32034070, 44761640, 55131162, 68328234, 109028699, 124416368, 173170271])\n",
    "\n",
    "lenR = R.shape[0]\n",
    "itTimes = q.shape[0] - lenR - 1\n",
    "\n",
    "# print lenR\n",
    "# print itTimes\n",
    "# print R\n",
    "# print q"
   ]
  },
  {
   "cell_type": "code",
   "execution_count": 2,
   "metadata": {
    "collapsed": false
   },
   "outputs": [
    {
     "data": {
      "text/plain": [
       "2.9802840543335552e+17"
      ]
     },
     "execution_count": 2,
     "metadata": {},
     "output_type": "execute_result"
    }
   ],
   "source": [
    "def optFun(x):\n",
    "    res = 0.0\n",
    "    for i in xrange(1, lenR + 1):\n",
    "        tmp = x[0] * np.exp(0.26*i - 0.26)/(0.0622*np.exp(-R[i-1]/x[0]))\n",
    "        # print 'tmp:', tmp\n",
    "        \n",
    "        for j in xrange(0, itTimes + 1):\n",
    "            tmp -= q[i+j] * (1-x[1])**j / (1.0622**(j+1))\n",
    "            # print tmp\n",
    "            \n",
    "        res += tmp ** 2\n",
    "        \n",
    "    return res\n",
    "\n",
    "optFun((50000, 0.005))\n"
   ]
  },
  {
   "cell_type": "markdown",
   "metadata": {},
   "source": [
    "Here, we must pay attention. From above test, we need to make the value of x[0] large enough, otherwise the value of `0.0622 * np.exp(-R[i-1]/x[0])` would be very large!"
   ]
  },
  {
   "cell_type": "code",
   "execution_count": 3,
   "metadata": {
    "collapsed": false
   },
   "outputs": [
    {
     "name": "stdout",
     "output_type": "stream",
     "text": [
      "     fun: 2.9802840543335552e+17\n",
      "     jac: array([  1.27990025e+12,  -3.97118160e+18,   0.00000000e+00])\n",
      " message: 'Inequality constraints incompatible'\n",
      "    nfev: 4\n",
      "     nit: 1\n",
      "    njev: 1\n",
      "  status: 4\n",
      " success: False\n",
      "       x: array([  5.00000000e+04,   5.00000000e-03])\n",
      "\n",
      "\n",
      "     fun: 1.7312742971253578e+144\n",
      "     jac: array([ -5.35288810e+143,   0.00000000e+000,   0.00000000e+000])\n",
      " message: 'Inequality constraints incompatible'\n",
      "    nfev: 4\n",
      "     nit: 1\n",
      "    njev: 1\n",
      "  status: 4\n",
      " success: False\n",
      "       x: array([  1.00000000e+03,   1.00000000e-02])\n",
      "\n",
      "\n",
      "     fun: 1.8458748102529868e+77\n",
      "     jac: array([ -1.41757539e+76,   0.00000000e+00,   0.00000000e+00])\n",
      " message: 'Inequality constraints incompatible'\n",
      "    nfev: 4\n",
      "     nit: 1\n",
      "    njev: 1\n",
      "  status: 4\n",
      " success: False\n",
      "       x: array([  2.00000000e+03,   3.00000000e-04])\n",
      "\n",
      "\n"
     ]
    },
    {
     "name": "stderr",
     "output_type": "stream",
     "text": [
      "C:\\Anaconda2\\lib\\site-packages\\scipy\\optimize\\slsqp.py:337: RuntimeWarning: invalid value encountered in greater\n",
      "  bnderr = where(bnds[:, 0] > bnds[:, 1])[0]\n"
     ]
    }
   ],
   "source": [
    "# Try lots of initial values instead of just one.\n",
    "x0 = np.array([[50000, 0.005], [1000, 0.01], [2000, 0.0003]])\n",
    "\n",
    "# cons = ({'type': 'ineq', 'fun': lambda x: x[0]},\n",
    "#         {'type': 'ineq', 'fun': lambda x: x[1]},\n",
    "#         {'type': 'ineq', 'fun': lambda x: 1 - x[1]})\n",
    "\n",
    "bnds = ((0, None), (0, 1))\n",
    "\n",
    "for i in xrange(x0.shape[0]):\n",
    "    res = minimize(optFun, x0[i], method='SLSQP', bounds=bnds)\n",
    "    print res\n",
    "    print '\\n'"
   ]
  },
  {
   "cell_type": "code",
   "execution_count": 4,
   "metadata": {
    "collapsed": false
   },
   "outputs": [
    {
     "name": "stdout",
     "output_type": "stream",
     "text": [
      "Warning: Desired error not necessarily achieved due to precision loss.\n",
      "         Current function value: 298028405433355520.000000\n",
      "         Iterations: 0\n",
      "         Function evaluations: 24\n",
      "         Gradient evaluations: 3\n",
      "      fun: 2.9802840543335552e+17\n",
      " hess_inv: array([[1, 0],\n",
      "       [0, 1]])\n",
      "      jac: array([  1.27990025e+12,  -3.97118160e+18])\n",
      "  message: 'Desired error not necessarily achieved due to precision loss.'\n",
      "     nfev: 24\n",
      "      nit: 0\n",
      "     njev: 3\n",
      "   status: 2\n",
      "  success: False\n",
      "        x: array([  5.00000000e+04,   5.00000000e-03])\n",
      "\n",
      "\n",
      "Warning: Desired error not necessarily achieved due to precision loss.\n",
      "         Current function value: 1731274297125357832770158779095189638576538081933002006177032311529191891190137546093519634742912290120564924536629224853698116257939670228271104.000000\n",
      "         Iterations: 0\n",
      "         Function evaluations: 56\n",
      "         Gradient evaluations: 11\n",
      "      fun: 1.7312742971253578e+144\n",
      " hess_inv: array([[1, 0],\n",
      "       [0, 1]])\n",
      "      jac: array([ -5.35288810e+143,   0.00000000e+000])\n",
      "  message: 'Desired error not necessarily achieved due to precision loss.'\n",
      "     nfev: 56\n",
      "      nit: 0\n",
      "     njev: 11\n",
      "   status: 2\n",
      "  success: False\n",
      "        x: array([  1.00000000e+03,   1.00000000e-02])\n",
      "\n",
      "\n",
      "Warning: Desired error not necessarily achieved due to precision loss.\n",
      "         Current function value: 184587481025298678769811376888534300665791926362046251427678292301727272009728.000000\n",
      "         Iterations: 0\n",
      "         Function evaluations: 56\n",
      "         Gradient evaluations: 11\n",
      "      fun: 1.8458748102529868e+77\n",
      " hess_inv: array([[1, 0],\n",
      "       [0, 1]])\n",
      "      jac: array([ -1.41757539e+76,   0.00000000e+00])\n",
      "  message: 'Desired error not necessarily achieved due to precision loss.'\n",
      "     nfev: 56\n",
      "      nit: 0\n",
      "     njev: 11\n",
      "   status: 2\n",
      "  success: False\n",
      "        x: array([  2.00000000e+03,   3.00000000e-04])\n",
      "\n",
      "\n"
     ]
    },
    {
     "name": "stderr",
     "output_type": "stream",
     "text": [
      "C:\\Anaconda2\\lib\\site-packages\\ipykernel\\__main__.py:11: RuntimeWarning: overflow encountered in double_scalars\n",
      "C:\\Anaconda2\\lib\\site-packages\\scipy\\optimize\\optimize.py:562: RuntimeWarning: invalid value encountered in double_scalars\n",
      "  grad[k] = (f(*((xk + d,) + args)) - f0) / d[k]\n"
     ]
    }
   ],
   "source": [
    "# Use another method 'BFGS'.\n",
    "# TODO: we can provide the first order derivative\n",
    "#       of optFun for optimization function.\n",
    "\n",
    "for i in xrange(len(x0)):\n",
    "    # minimize(optFun,x0[i],method='bfgs', options={'disp':1})\n",
    "    res = res = minimize(optFun, x0[i], method='BFGS', options={'gtol': 1e-6, 'disp': True})\n",
    "    print res\n",
    "    print '\\n'"
   ]
  },
  {
   "cell_type": "code",
   "execution_count": null,
   "metadata": {
    "collapsed": true
   },
   "outputs": [],
   "source": []
  },
  {
   "cell_type": "code",
   "execution_count": null,
   "metadata": {
    "collapsed": true
   },
   "outputs": [],
   "source": []
  },
  {
   "cell_type": "markdown",
   "metadata": {},
   "source": [
    "# Compute Integration"
   ]
  },
  {
   "cell_type": "code",
   "execution_count": 169,
   "metadata": {
    "collapsed": false
   },
   "outputs": [
    {
     "name": "stdout",
     "output_type": "stream",
     "text": [
      "The autoreload extension is already loaded. To reload it, use:\n",
      "  %reload_ext autoreload\n"
     ]
    }
   ],
   "source": [
    "# Pre-setting\n",
    "import random\n",
    "import numpy as np\n",
    "import matplotlib.pyplot as plt\n",
    "\n",
    "%matplotlib inline\n",
    "plt.rcParams['figure.figsize'] = (10.0, 8.0) # set default size of plots\n",
    "plt.rcParams['image.interpolation'] = 'nearest'\n",
    "plt.rcParams['image.cmap'] = 'gray'\n",
    "\n",
    "# for auto-reloading extenrnal modules\n",
    "# see http://stackoverflow.com/questions/1907993/autoreload-of-modules-in-ipython\n",
    "%load_ext autoreload\n",
    "%autoreload 2"
   ]
  },
  {
   "cell_type": "code",
   "execution_count": 159,
   "metadata": {
    "collapsed": false
   },
   "outputs": [],
   "source": [
    "# Load MatLab m data File\n",
    "\n",
    "\n",
    "import scipy.io\n",
    "\n",
    "xMFile = scipy.io.loadmat('x.mat')\n",
    "yMFile = scipy.io.loadmat('y.mat')\n",
    "xx = xMFile['xx']\n",
    "yy = yMFile['yy']\n"
   ]
  },
  {
   "cell_type": "code",
   "execution_count": 171,
   "metadata": {
    "collapsed": false
   },
   "outputs": [
    {
     "name": "stdout",
     "output_type": "stream",
     "text": [
      "[   2.   10.   10.   12.   15.   15.   15.   16.   16.   20.   21.   22.\n",
      "   22.   24.   27.   27.   27.   33.   34.   35.   43.   46.   47.   47.\n",
      "   48.   48.   49.   51.   51.   53.   53.   53.   54.   54.   54.   55.\n",
      "   55.   55.   57.   58.   60.   61.   61.   61.   62.   64.   67.   68.\n",
      "   68.   68.   69.   69.   69.   70.   77.   79.   81.   81.   84.   88.\n",
      "   89.   91.   92.   92.   93.   95.   96.   98.  101.  102.  102.  102.\n",
      "  103.  103.  105.  107.  107.  110.  111.  112.  112.  113.  114.  114.\n",
      "  114.  117.  120.  120.  121.  121.  121.  122.  123.  123.  124.  124.\n",
      "  124.  124.  125.  126.  127.  127.  128.  132.  133.  133.  134.  135.\n",
      "  135.  136.  136.  137.  137.  137.  137.  137.  137.  140.  140.  142.\n",
      "  143.  143.  143.  143.  143.  145.  145.  145.  146.  146.  146.  147.\n",
      "  147.  148.  149.  149.  150.  151.  151.  155.  155.  156.  156.  156.\n",
      "  156.  156.  157.  158.  158.  158.  159.  160.  160.  160.  160.  162.\n",
      "  164.  165.  166.  170.  175.  177.  178.  178.  178.  181.  182.  183.\n",
      "  183.  191.  192.  192.  193.  195.  195.  196.  197.  197.  197.  199.\n",
      "  199.  199.  200.  200.  201.  201.  201.  202.  204.  205.  206.  209.\n",
      "  210.  210.  211.  211.  213.  214.  215.  216.  216.  216.  217.  217.\n",
      "  217.  217.  218.  219.  219.  220.  223.  223.  223.  224.  224.  224.\n",
      "  225.  225.  229.  229.  229.  230.  230.  230.  231.  231.  231.  231.\n",
      "  231.  231.  232.  232.  233.  233.  235.  235.  236.  236.  236.  236.\n",
      "  237.  237.  241.  242.  243.  249.  249.  249.  249.  249.  249.  250.\n",
      "  250.  251.  251.  251.  251.  252.  252.  252.  253.  253.  253.  254.\n",
      "  254.  254.  254.  254.  255.  256.  256.  256.  257.  257.  257.  257.\n",
      "  257.  257.  257.  257.  258.  260.  260.  260.  260.  260.  262.  262.\n",
      "  262.  263.  263.  264.  264.  264.  264.  264.  265.  265.  267.  267.\n",
      "  268.  278.  287.  293.  304.  310.  317.  318.  324.  326.  330.  337.\n",
      "  342.  343.  357.  368.  371.]\n",
      "[ 3.72  3.87  3.    3.08  3.18  3.03  2.95  3.9   3.22  3.    3.47  5.41\n",
      "  2.99  3.62  3.63  3.39  2.81  3.08  3.4   3.53  7.    2.93  3.85  3.55\n",
      "  3.31  2.95  3.59  3.59  3.01  4.16  3.55  3.43  3.73  3.45  2.88  3.86\n",
      "  3.65  3.26  3.54  3.82  3.61  3.38  3.06  2.91  3.17  3.57  2.97  4.28\n",
      "  3.98  3.51  3.96  3.33  3.21  2.96  3.57  3.46  3.48  3.29  3.03  3.95\n",
      "  3.99  3.44  4.84  3.17  3.83  3.66  3.14  3.24  3.33  3.95  3.29  3.23\n",
      "  3.49  3.32  3.05  3.2   3.16  3.6   5.24  5.42  3.55  4.27  4.19  3.44\n",
      "  3.21  3.99  5.43  3.89  3.78  3.25  2.96  3.89  3.57  3.15  3.98  3.97\n",
      "  3.74  3.24  5.42  3.18  4.17  3.44  4.19  3.89  5.43  3.99  4.19  3.97\n",
      "  3.42  3.53  3.41  4.26  4.18  3.72  3.55  3.4   3.32  4.15  3.49  6.82\n",
      "  4.86  4.27  3.87  3.87  3.54  3.94  3.55  3.13  5.43  3.49  3.44  4.28\n",
      "  3.3   3.9   3.75  3.52  3.54  4.27  3.34  3.77  3.49  3.84  3.73  3.61\n",
      "  3.08  3.06  3.45  3.73  3.59  3.26  3.31  3.96  3.63  3.46  3.08  3.48\n",
      "  3.14  4.17  3.98  3.87  3.44  3.58  3.88  3.66  3.51  3.52  3.61  3.94\n",
      "  3.9   3.99  3.92  3.76  3.64  5.26  4.27  3.5   3.5   3.46  3.44  3.93\n",
      "  3.81  3.51  3.77  3.66  3.96  3.75  3.72  5.41  4.16  4.28  3.99  3.2\n",
      "  3.75  3.14  6.99  3.99  3.96  4.15  3.85  4.85  3.96  3.74  4.84  4.25\n",
      "  3.86  3.74  3.65  3.91  3.87  3.59  3.89  3.61  3.43  4.27  3.48  3.45\n",
      "  4.18  3.74  3.86  3.57  3.25  4.85  3.75  3.23  3.97  3.86  3.64  3.57\n",
      "  3.55  3.32  4.15  3.86  3.77  3.74  3.74  3.64  4.87  4.84  4.27  3.52\n",
      "  5.44  5.44  4.27  3.92  3.63  5.44  3.97  3.77  3.61  3.37  3.3   4.86\n",
      "  3.99  3.9   3.89  3.88  3.87  4.18  3.95  3.35  3.6   3.4   3.28  3.93\n",
      "  3.84  3.54  3.47  3.36  4.19  4.19  4.14  3.94  4.19  4.18  4.18  3.76\n",
      "  3.6   3.57  3.15  3.13  3.5   4.27  3.85  3.73  3.25  3.09  3.94  3.54\n",
      "  3.5   3.4   3.1   3.94  3.78  3.23  3.18  3.14  3.98  3.9   4.2   3.6\n",
      "  3.93  3.82  3.89  3.97  3.96  3.9   4.18  4.19  4.25  4.15  5.24  4.29\n",
      "  3.42  3.97  3.76  3.46  3.9 ]\n"
     ]
    }
   ],
   "source": [
    "data = open('xx.txt', 'r').read()\n",
    "xx = data.split('\\n')\n",
    "xx = np.array([float(x) for x in xx])\n",
    "data = open('yy.txt', 'r').read()\n",
    "yy = data.split('\\n')\n",
    "yy = np.array([float(y) for y in yy])\n",
    "\n",
    "print xx \n",
    "print yy"
   ]
  },
  {
   "cell_type": "code",
   "execution_count": 164,
   "metadata": {
    "collapsed": false
   },
   "outputs": [
    {
     "name": "stdout",
     "output_type": "stream",
     "text": [
      "[[13 27]\n",
      " [27 58]]\n",
      "[[107 228]\n",
      " [228 487]]\n"
     ]
    }
   ],
   "source": [
    "a1 = np.array([[2, 3], [3, 7]])\n",
    "print np.dot(a1, a1)\n",
    "print a1.dot(a1.dot(a1))"
   ]
  },
  {
   "cell_type": "code",
   "execution_count": 165,
   "metadata": {
    "collapsed": true
   },
   "outputs": [],
   "source": [
    "def Log_p_eta_given_y(x, y, eta):\n",
    "    \n",
    "    DF = np.exp(-(x / 360.0) * (y / 100.0))\n",
    "    N = len(x)\n",
    "    \n",
    "    t = np.unique(x)\n",
    "    n = len(t)\n",
    "    t_head = t[1:]\n",
    "    t_tail = t[:-1]\n",
    "    h = t_head - t_tail\n",
    "    h = np.insert(h, 0, 0)\n",
    "    \n",
    "    w = np.zeros((n, 1))\n",
    "    y_bar = np.zeros((n, 1))\n",
    "    SSE = 0.0\n",
    "    \n",
    "    for j in range(n):\n",
    "        w[j] = np.sum(x == t[j])\n",
    "        y_bar[j] = np.sum((x == t[j]) * DF) / w[j]\n",
    "        SE = (x == t[j]) * (DF - y_bar[j])\n",
    "        SSE += sum(SE ** 2)\n",
    "        \n",
    "    Q_prime = np.zeros((n-2, n))\n",
    "    T_Col_N = n - 1\n",
    "    T_m = np.zeros((n-2, T_Col_N))\n",
    "    \n",
    "    for j in range(n-2):\n",
    "        Q_prime[j, j] = (h[j + 1] + 0.0) ** (-1)\n",
    "        Q_prime[j, j + 2] = (h[j + 2] + 0.0) ** (-1)\n",
    "        Q_prime[j, j + 1] = -(Q_prime[j, j] + Q_prime[j, j + 2])\n",
    "        \n",
    "        T_m[j, j] = (h[j + 1] + h[j + 2]) / 6.0\n",
    "        T_m[j, j + 1] = h[j + 2] / 6.0\n",
    "        \n",
    "    maskT = range(T_Col_N)\n",
    "    del maskT[-2]\n",
    "    T_m = T_m[:, maskT]\n",
    "    T_m = T_m + T_m.T\n",
    "    W = np.diag([x[0] for x in w]) # np.diag(w)\n",
    "    Q = Q_prime.T\n",
    "    A = Q.dot(np.linalg.inv(T_m)).dot(Q.T)\n",
    "    \n",
    "    \n",
    "    log_p_eta = -2 * np.log(1 + eta)\n",
    "    p = 2\n",
    "    log_1 = ((n - p) / 2.0) * np.log(eta)\n",
    "    log_3 = ((N - p) / 2.0) * np.log(y_bar.T.dot(W - W.dot(np.linalg.inv(W + eta * A)).dot(W)).dot(y_bar) + SSE)\n",
    "    \n",
    "    \n",
    "    if eta > 1:\n",
    "        log_2 = 0.5 * n * np.log(eta) + 0.5 * np.log(np.linalg.det(W / eta + A))\n",
    "    else:\n",
    "        log_2 = 0.5 * np.log(np.linalg.det(W + eta * A))\n",
    "    \n",
    "    return log_p_eta + log_1 - log_2 - log_3"
   ]
  },
  {
   "cell_type": "code",
   "execution_count": 166,
   "metadata": {
    "collapsed": false
   },
   "outputs": [
    {
     "name": "stdout",
     "output_type": "stream",
     "text": [
      "(317L,)\n",
      "(317L,)\n",
      "[[ 868.20796415]]\n"
     ]
    }
   ],
   "source": [
    "print xx.shape\n",
    "print yy.shape\n",
    "print Log_p_eta_given_y(xx, yy, 0.3)"
   ]
  },
  {
   "cell_type": "code",
   "execution_count": 174,
   "metadata": {
    "collapsed": false
   },
   "outputs": [
    {
     "data": {
      "text/plain": [
       "array([[ 300.00236633]])"
      ]
     },
     "execution_count": 174,
     "metadata": {},
     "output_type": "execute_result"
    }
   ],
   "source": [
    "Log_p_eta_given_y(xx, yy, 0.0001)"
   ]
  },
  {
   "cell_type": "code",
   "execution_count": 179,
   "metadata": {
    "collapsed": false
   },
   "outputs": [],
   "source": [
    "from scipy import integrate\n",
    "\n",
    "\n",
    "invexp = lambda eta: (Log_p_eta_given_y(xx, yy, eta))\n",
    "y, err = integrate.quad(invexp, 0.01, np.inf)"
   ]
  },
  {
   "cell_type": "code",
   "execution_count": 180,
   "metadata": {
    "collapsed": false
   },
   "outputs": [
    {
     "name": "stdout",
     "output_type": "stream",
     "text": [
      "-4525.01225094\n",
      "2411.54307216\n"
     ]
    }
   ],
   "source": [
    "print y\n",
    "print err\n"
   ]
  },
  {
   "cell_type": "code",
   "execution_count": null,
   "metadata": {
    "collapsed": true
   },
   "outputs": [],
   "source": []
  }
 ],
 "metadata": {
  "anaconda-cloud": {},
  "kernelspec": {
   "display_name": "Python [Root]",
   "language": "python",
   "name": "Python [Root]"
  },
  "language_info": {
   "codemirror_mode": {
    "name": "ipython",
    "version": 2
   },
   "file_extension": ".py",
   "mimetype": "text/x-python",
   "name": "python",
   "nbconvert_exporter": "python",
   "pygments_lexer": "ipython2",
   "version": "2.7.12"
  }
 },
 "nbformat": 4,
 "nbformat_minor": 0
}
